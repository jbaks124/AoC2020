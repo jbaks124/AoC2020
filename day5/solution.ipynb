{
 "cells": [
  {
   "cell_type": "code",
   "execution_count": null,
   "metadata": {},
   "outputs": [],
   "source": [
    "#Day5\n",
    "# part 1\n",
    "\n",
    "import urllib\n",
    "f = open(\"input.txt\", \"r\")\n",
    "lines = f.read()\n",
    "values = lines.split()"
   ]
  },
  {
   "cell_type": "code",
   "execution_count": null,
   "metadata": {},
   "outputs": [],
   "source": [
    "print(len(values))"
   ]
  },
  {
   "cell_type": "code",
   "execution_count": null,
   "metadata": {},
   "outputs": [],
   "source": [
    "def check_row(pletter, pnumberlow, pnumberhigh):\n",
    "    if pletter == 'F':\n",
    "        pnumberhigh = pnumberhigh - (pnumberhigh-pnumberlow+1) / 2\n",
    "    if pletter == 'B':\n",
    "        pnumberlow = pnumberlow + (pnumberhigh-pnumberlow+1) / 2\n",
    "    return pletter, math.floor(pnumberlow), math.floor(pnumberhigh)\n",
    "\n",
    "def check_seat(pletter, pnumberlow, pnumberhigh):\n",
    "    if pletter == 'L':\n",
    "        pnumberhigh = pnumberhigh - (pnumberhigh-pnumberlow+1) / 2\n",
    "    if pletter == 'R':\n",
    "        pnumberlow = pnumberlow + (pnumberhigh-pnumberlow+1) / 2\n",
    "    return pletter, math.floor(pnumberlow), math.floor(pnumberhigh)"
   ]
  },
  {
   "cell_type": "code",
   "execution_count": null,
   "metadata": {},
   "outputs": [],
   "source": [
    "import math\n",
    "\n",
    "seatids = []\n",
    "\n",
    "for i in values:\n",
    "    pstring = i[0:7]\n",
    "    \n",
    "    pnumberlow = 0\n",
    "    pnumberhigh = 127\n",
    "    for pletter in pstring:\n",
    "        outcome = check_row(pletter,pnumberlow, pnumberhigh)\n",
    "        pnumberlow = outcome[1] \n",
    "        pnumberhigh = outcome[2] \n",
    "        row = pnumberlow\n",
    "\n",
    "    pstring = i[7:10]\n",
    "    pnumberlow = 0\n",
    "    pnumberhigh = 7\n",
    "    for pletter in pstring:\n",
    "        outcome = check_seat(pletter,pnumberlow, pnumberhigh)\n",
    "        pnumberlow = outcome[1] \n",
    "        pnumberhigh = outcome[2] \n",
    "        seat = pnumberlow\n",
    "\n",
    "    seatids.append(row*8+seat)"
   ]
  },
  {
   "cell_type": "code",
   "execution_count": null,
   "metadata": {},
   "outputs": [],
   "source": [
    "seatids.sort(reverse=True)\n",
    "print(seatids[0])"
   ]
  },
  {
   "cell_type": "code",
   "execution_count": null,
   "metadata": {},
   "outputs": [],
   "source": [
    "# part 2\n",
    "\n",
    "seatids = []\n",
    "seatmap = {}\n",
    "\n",
    "for i in values:\n",
    "    pstring = i[0:7]\n",
    "    \n",
    "    pnumberlow = 0\n",
    "    pnumberhigh = 127\n",
    "    for pletter in pstring:\n",
    "        outcome = check_row(pletter,pnumberlow, pnumberhigh)\n",
    "        pnumberlow = outcome[1] \n",
    "        pnumberhigh = outcome[2] \n",
    "        row = pnumberlow\n",
    "\n",
    "    pstring = i[7:10]\n",
    "    pnumberlow = 0\n",
    "    pnumberhigh = 7\n",
    "    for pletter in pstring:\n",
    "        outcome = check_seat(pletter,pnumberlow, pnumberhigh)\n",
    "        pnumberlow = outcome[1] \n",
    "        pnumberhigh = outcome[2] \n",
    "        seat = pnumberlow\n",
    "\n",
    "    seatmap[row,seat] = 1\n",
    "    seatids.append(row*8+seat)"
   ]
  },
  {
   "cell_type": "code",
   "execution_count": null,
   "metadata": {},
   "outputs": [],
   "source": [
    "seatids.sort(reverse=True)\n",
    "print(seatids[0])"
   ]
  },
  {
   "cell_type": "code",
   "execution_count": null,
   "metadata": {},
   "outputs": [],
   "source": [
    "r = 1\n",
    "while r < 128:\n",
    "\n",
    "    s = 0\n",
    "    while s < 8:\n",
    "        \n",
    "        try:\n",
    "            t = seatmap[r,s]\n",
    "            r = r\n",
    "            \n",
    "        except:\n",
    "            if r > 11 and r < 111:\n",
    "                print('row:' + str(r) + ' seat:' + str(s) + ' empty')\n",
    "                print(r*8+s)\n",
    "        \n",
    "        s += 1\n",
    "        \n",
    "    r += 1"
   ]
  }
 ],
 "metadata": {
  "kernelspec": {
   "display_name": "Python 3",
   "language": "python",
   "name": "python3"
  },
  "language_info": {
   "codemirror_mode": {
    "name": "ipython",
    "version": 3
   },
   "file_extension": ".py",
   "mimetype": "text/x-python",
   "name": "python",
   "nbconvert_exporter": "python",
   "pygments_lexer": "ipython3",
   "version": "3.7.4"
  }
 },
 "nbformat": 4,
 "nbformat_minor": 4
}
