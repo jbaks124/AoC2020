{
 "cells": [
  {
   "cell_type": "code",
   "execution_count": 103,
   "metadata": {},
   "outputs": [],
   "source": [
    "#Day7\n",
    "# part 1\n",
    "\n",
    "import urllib\n",
    "f = open(\"input.txt\", \"r\")\n",
    "lines = f.read()\n",
    "values = lines.split('\\n')"
   ]
  },
  {
   "cell_type": "code",
   "execution_count": 104,
   "metadata": {},
   "outputs": [
    {
     "name": "stdout",
     "output_type": "stream",
     "text": [
      "wavy bronze bags contain 5 striped gold bags, 5 light tomato bags.\n",
      "drab indigo bags contain 4 pale bronze bags, 2 mirrored lavender bags.\n",
      "pale olive bags contain 3 faded bronze bags, 5 wavy orange bags, 3 clear black bags, 1 striped purple bag.\n",
      "faded white bags contain 5 vibrant violet bags, 4 light teal bags.\n",
      "mirrored magenta bags contain 2 muted cyan bags, 3 vibrant crimson bags.\n"
     ]
    }
   ],
   "source": [
    "for i in values[0:5]:\n",
    "    print(i)"
   ]
  },
  {
   "cell_type": "code",
   "execution_count": 156,
   "metadata": {
    "scrolled": false
   },
   "outputs": [
    {
     "name": "stdout",
     "output_type": "stream",
     "text": [
      "{'vibranttan': 5}\n"
     ]
    }
   ],
   "source": [
    "import re\n",
    "\n",
    "d = {}\n",
    "test = []\n",
    "reqdes = {}\n",
    "\n",
    "for i in values:\n",
    "    d = i.split('contain')[0].replace('bags', '').replace(' ', '')\n",
    "    d2 = i.split('contain')[1].replace('bags', '').replace('bag', '').replace('.','').replace(' ','').split(',')\n",
    "\n",
    "    reqline = {}\n",
    "    \n",
    "    for i in d2:\n",
    "        \n",
    "        col = re.sub(\"[\\d+]\", \"\", i)   \n",
    "        req = re.sub(\"[^\\d]\", \"\", i)\n",
    "        \n",
    "        if req == '':\n",
    "            req = '1'\n",
    "            #print(req, col)\n",
    "\n",
    "  \n",
    "        #print(d, req, col)\n",
    "\n",
    "        t = {col.strip() : int(req.strip())}\n",
    "        reqline.update(t)\n",
    "        \n",
    "    reqdes[d] = reqline\n",
    "   \n",
    "print(reqdes['mutedgold'])"
   ]
  },
  {
   "cell_type": "code",
   "execution_count": 181,
   "metadata": {},
   "outputs": [
    {
     "name": "stdout",
     "output_type": "stream",
     "text": [
      "dullfuchsia\n",
      "clearindigo\n",
      "mirroredlavender\n",
      "wavyyellow\n",
      "mutedaqua\n",
      "lighttomato\n",
      "stripedmaroon\n",
      "dottedbeige\n",
      "dimchartreuse\n",
      "18\n"
     ]
    }
   ],
   "source": [
    "answer = 0\n",
    "bagcheck = []\n",
    "searchfor = 'shinygold'\n",
    "\n",
    "#directly\n",
    "for i in reqdes:\n",
    "    if searchfor in reqdes[i]:\n",
    "        bagcheck.append(i)\n",
    "        answer += 1\n",
    "        #print(i)\n",
    "        \n",
    "#indirectly\n",
    "for i in reqdes:\n",
    "    #print(reqdes[i])\n",
    "    for b in bagcheck:\n",
    "        #print(b)\n",
    "        if b in i:\n",
    "            print(i)\n",
    "            answer += 1\n",
    "\n",
    "        \n",
    "print(answer)"
   ]
  }
 ],
 "metadata": {
  "kernelspec": {
   "display_name": "Python 3",
   "language": "python",
   "name": "python3"
  },
  "language_info": {
   "codemirror_mode": {
    "name": "ipython",
    "version": 3
   },
   "file_extension": ".py",
   "mimetype": "text/x-python",
   "name": "python",
   "nbconvert_exporter": "python",
   "pygments_lexer": "ipython3",
   "version": "3.7.4"
  }
 },
 "nbformat": 4,
 "nbformat_minor": 4
}
