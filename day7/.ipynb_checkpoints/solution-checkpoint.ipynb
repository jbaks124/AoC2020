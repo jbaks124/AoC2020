{
 "cells": [
  {
   "cell_type": "code",
   "execution_count": 36,
   "metadata": {},
   "outputs": [],
   "source": [
    "#Day7\n",
    "# part 1\n",
    "\n",
    "import urllib\n",
    "f = open(\"input.txt\", \"r\")\n",
    "lines = f.read()\n",
    "values = lines.split('\\n')"
   ]
  },
  {
   "cell_type": "code",
   "execution_count": 37,
   "metadata": {},
   "outputs": [
    {
     "name": "stdout",
     "output_type": "stream",
     "text": [
      "wavy bronze bags contain 5 striped gold bags, 5 light tomato bags.\n",
      "drab indigo bags contain 4 pale bronze bags, 2 mirrored lavender bags.\n",
      "pale olive bags contain 3 faded bronze bags, 5 wavy orange bags, 3 clear black bags, 1 striped purple bag.\n",
      "faded white bags contain 5 vibrant violet bags, 4 light teal bags.\n",
      "mirrored magenta bags contain 2 muted cyan bags, 3 vibrant crimson bags.\n"
     ]
    }
   ],
   "source": [
    "for i in values[0:5]:\n",
    "    print(i)"
   ]
  },
  {
   "cell_type": "code",
   "execution_count": 177,
   "metadata": {
    "scrolled": false
   },
   "outputs": [
    {
     "name": "stdout",
     "output_type": "stream",
     "text": [
      "dict_values([1, 3])\n",
      "594\n"
     ]
    }
   ],
   "source": [
    "import re\n",
    "\n",
    "d = {}\n",
    "reqdes = {}\n",
    "bags = []\n",
    "\n",
    "for i in values:\n",
    "    d = i.split('contain')[0].replace('bags', '').replace(' ', '')\n",
    "    d2 = i.split('contain')[1].replace('bags', '').replace('bag', '').replace('.','').replace(' ','').split(',')\n",
    "\n",
    "    reqline = {}\n",
    "    \n",
    "    for i in d2:\n",
    "        \n",
    "        col = re.sub(\"[\\d+]\", \"\", i)   \n",
    "        req = re.sub(\"[^\\d]\", \"\", i)\n",
    "        \n",
    "        #Empty bag\n",
    "        if req != '':\n",
    "            t = {col.strip() : int(req.strip())}\n",
    "            reqline.update(t)\n",
    "        \n",
    "    reqdes[d] = reqline\n",
    "    bags.append(d)\n",
    "    \n",
    "\n",
    "print(reqdes['shinygold'].values())\n",
    "print(len(bags))"
   ]
  },
  {
   "cell_type": "code",
   "execution_count": 156,
   "metadata": {},
   "outputs": [
    {
     "name": "stdout",
     "output_type": "stream",
     "text": [
      "274\n"
     ]
    }
   ],
   "source": [
    "#directly\n",
    "\n",
    "searchfor = 'shinygold'\n",
    "gold = []\n",
    "c = 0\n",
    "\n",
    "def colsearch(b, s): \n",
    "    for i in reqdes[b]:\n",
    "        if i == s:\n",
    "            return True\n",
    "\n",
    "#Endpoints\n",
    "for b in bags:\n",
    "    if colsearch(b, searchfor):\n",
    "        gold.append(b)\n",
    "\n",
    "#Finding endpoints\n",
    "while c < 5:\n",
    "    c += 1\n",
    "    gold = list(set(gold))\n",
    "    for b in bags:\n",
    "        for g in gold:\n",
    "            if colsearch(b, g):\n",
    "                gold.append(b)\n",
    " \n",
    "print(len(set(gold)))"
   ]
  },
  {
   "cell_type": "code",
   "execution_count": 241,
   "metadata": {},
   "outputs": [
    {
     "ename": "UnboundLocalError",
     "evalue": "local variable 'c' referenced before assignment",
     "output_type": "error",
     "traceback": [
      "\u001b[1;31m---------------------------------------------------------------------------\u001b[0m",
      "\u001b[1;31mUnboundLocalError\u001b[0m                         Traceback (most recent call last)",
      "\u001b[1;32m<ipython-input-241-fcda82a6c5f1>\u001b[0m in \u001b[0;36m<module>\u001b[1;34m\u001b[0m\n\u001b[0;32m     25\u001b[0m         \u001b[0mtrace\u001b[0m\u001b[1;33m(\u001b[0m\u001b[0mi\u001b[0m\u001b[1;33m,\u001b[0m \u001b[0mreqdes\u001b[0m\u001b[1;33m[\u001b[0m\u001b[0ms\u001b[0m\u001b[1;33m]\u001b[0m\u001b[1;33m[\u001b[0m\u001b[0mi\u001b[0m\u001b[1;33m]\u001b[0m \u001b[1;33m*\u001b[0m \u001b[0mbags\u001b[0m \u001b[1;33m*\u001b[0m \u001b[0mb2\u001b[0m\u001b[1;33m)\u001b[0m\u001b[1;33m\u001b[0m\u001b[1;33m\u001b[0m\u001b[0m\n\u001b[0;32m     26\u001b[0m \u001b[0mc\u001b[0m \u001b[1;33m=\u001b[0m \u001b[1;36m0\u001b[0m\u001b[1;33m\u001b[0m\u001b[1;33m\u001b[0m\u001b[0m\n\u001b[1;32m---> 27\u001b[1;33m \u001b[0mtrace\u001b[0m\u001b[1;33m(\u001b[0m\u001b[0msearchfor\u001b[0m\u001b[1;33m,\u001b[0m \u001b[1;36m1\u001b[0m\u001b[1;33m)\u001b[0m\u001b[1;33m\u001b[0m\u001b[1;33m\u001b[0m\u001b[0m\n\u001b[0m\u001b[0;32m     28\u001b[0m \u001b[1;33m\u001b[0m\u001b[0m\n\u001b[0;32m     29\u001b[0m \u001b[0mprint\u001b[0m\u001b[1;33m(\u001b[0m\u001b[0mo\u001b[0m\u001b[1;33m)\u001b[0m\u001b[1;33m\u001b[0m\u001b[1;33m\u001b[0m\u001b[0m\n",
      "\u001b[1;32m<ipython-input-241-fcda82a6c5f1>\u001b[0m in \u001b[0;36mtrace\u001b[1;34m(s, bags)\u001b[0m\n\u001b[0;32m      8\u001b[0m \u001b[1;32mdef\u001b[0m \u001b[0mtrace\u001b[0m\u001b[1;33m(\u001b[0m\u001b[0ms\u001b[0m\u001b[1;33m,\u001b[0m \u001b[0mbags\u001b[0m\u001b[1;33m)\u001b[0m\u001b[1;33m:\u001b[0m\u001b[1;33m\u001b[0m\u001b[1;33m\u001b[0m\u001b[0m\n\u001b[0;32m      9\u001b[0m \u001b[1;33m\u001b[0m\u001b[0m\n\u001b[1;32m---> 10\u001b[1;33m     \u001b[0mc\u001b[0m \u001b[1;33m+=\u001b[0m \u001b[1;36m1\u001b[0m\u001b[1;33m\u001b[0m\u001b[1;33m\u001b[0m\u001b[0m\n\u001b[0m\u001b[0;32m     11\u001b[0m \u001b[1;33m\u001b[0m\u001b[0m\n\u001b[0;32m     12\u001b[0m     \u001b[0ma\u001b[0m \u001b[1;33m=\u001b[0m \u001b[1;33m[\u001b[0m\u001b[1;33m]\u001b[0m\u001b[1;33m\u001b[0m\u001b[1;33m\u001b[0m\u001b[0m\n",
      "\u001b[1;31mUnboundLocalError\u001b[0m: local variable 'c' referenced before assignment"
     ]
    }
   ],
   "source": [
    "# part 2\n",
    "\n",
    "searchfor = 'shinygold'\n",
    "\n",
    "o = []\n",
    "c = 0\n",
    "\n",
    "def trace(s, bags):\n",
    "            \n",
    "    c += 1\n",
    "        \n",
    "    a = [] \n",
    "\n",
    "    b2 = bags\n",
    "\n",
    "    for i in reqdes[s]:\n",
    "        bags = 0\n",
    "        \n",
    "        for i in reqdes[s]:\n",
    "            bags += reqdes[s][i]\n",
    "            #print(bags, reqdes[s])\n",
    "            \n",
    "        o.append(bags * b2)\n",
    "        print(reqdes[s][i] * bags * b2)\n",
    "        trace(i, reqdes[s][i] * bags * b2)\n",
    "\n",
    "trace(searchfor, 1)\n",
    "\n",
    "print(o)"
   ]
  }
 ],
 "metadata": {
  "kernelspec": {
   "display_name": "Python 3",
   "language": "python",
   "name": "python3"
  },
  "language_info": {
   "codemirror_mode": {
    "name": "ipython",
    "version": 3
   },
   "file_extension": ".py",
   "mimetype": "text/x-python",
   "name": "python",
   "nbconvert_exporter": "python",
   "pygments_lexer": "ipython3",
   "version": "3.8.5"
  }
 },
 "nbformat": 4,
 "nbformat_minor": 4
}
