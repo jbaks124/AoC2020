{
 "cells": [
  {
   "cell_type": "code",
   "execution_count": 36,
   "metadata": {},
   "outputs": [],
   "source": [
    "#Day7\n",
    "# part 1\n",
    "\n",
    "import urllib\n",
    "f = open(\"input.txt\", \"r\")\n",
    "lines = f.read()\n",
    "values = lines.split('\\n')"
   ]
  },
  {
   "cell_type": "code",
   "execution_count": 294,
   "metadata": {},
   "outputs": [
    {
     "name": "stdout",
     "output_type": "stream",
     "text": [
      "wavy bronze bags contain 5 striped gold bags, 5 light tomato bags.\n",
      "drab indigo bags contain 4 pale bronze bags, 2 mirrored lavender bags.\n",
      "pale olive bags contain 3 faded bronze bags, 5 wavy orange bags, 3 clear black bags, 1 striped purple bag.\n"
     ]
    }
   ],
   "source": [
    "for i in values[0:3]:\n",
    "    print(i)"
   ]
  },
  {
   "cell_type": "code",
   "execution_count": 300,
   "metadata": {
    "scrolled": false
   },
   "outputs": [
    {
     "name": "stdout",
     "output_type": "stream",
     "text": [
      "594\n"
     ]
    }
   ],
   "source": [
    "import re\n",
    "\n",
    "d = {}\n",
    "reqdes = {}\n",
    "bags = []\n",
    "\n",
    "for i in values:\n",
    "    d = i.split('contain')[0].replace('bags', '').replace(' ', '')\n",
    "    d2 = i.split('contain')[1].replace('bags', '').replace('bag', '').replace('.','').replace(' ','').split(',')\n",
    "\n",
    "    reqline = {}\n",
    "    \n",
    "    for i in d2:\n",
    "        \n",
    "        col = re.sub(\"[\\d+]\", \"\", i)   \n",
    "        req = re.sub(\"[^\\d]\", \"\", i)\n",
    "        \n",
    "        #Empty bag\n",
    "        if req != '':\n",
    "            t = {col.strip() : int(req.strip())}\n",
    "            reqline.update(t)\n",
    "        \n",
    "    reqdes[d] = reqline\n",
    "    bags.append(d)\n",
    "\n",
    "print(len(bags))"
   ]
  },
  {
   "cell_type": "code",
   "execution_count": 298,
   "metadata": {},
   "outputs": [
    {
     "name": "stdout",
     "output_type": "stream",
     "text": [
      "274\n"
     ]
    }
   ],
   "source": [
    "searchfor = 'shinygold'\n",
    "gold = []\n",
    "c = 0\n",
    "\n",
    "def colsearch(b, s): \n",
    "    for i in reqdes[b]:\n",
    "        if i == s:\n",
    "            return True\n",
    "\n",
    "#Endpoints\n",
    "for b in bags:\n",
    "    if colsearch(b, searchfor):\n",
    "        gold.append(b)\n",
    "\n",
    "#Finding endpoints\n",
    "while c < 5:\n",
    "    c += 1\n",
    "    gold = list(set(gold))\n",
    "    for b in bags:\n",
    "        for g in gold:\n",
    "            if colsearch(b, g):\n",
    "                gold.append(b)\n",
    " \n",
    "print(len(set(gold)))"
   ]
  },
  {
   "cell_type": "code",
   "execution_count": 296,
   "metadata": {},
   "outputs": [
    {
     "name": "stdout",
     "output_type": "stream",
     "text": [
      "158730\n"
     ]
    }
   ],
   "source": [
    "# part 2\n",
    "\n",
    "o = []\n",
    "\n",
    "def trace(s, bags):\n",
    "\n",
    "    #print(bags)\n",
    "    b2 = bags\n",
    "\n",
    "    for i in reqdes[s]:\n",
    "        \n",
    "        bags = 0\n",
    "        o.append(reqdes[s][i] * b2)\n",
    "        trace(i, reqdes[s][i] * b2)\n",
    "\n",
    "trace(searchfor, 1)\n",
    "\n",
    "print(sum(o))"
   ]
  },
  {
   "cell_type": "code",
   "execution_count": null,
   "metadata": {},
   "outputs": [],
   "source": []
  }
 ],
 "metadata": {
  "kernelspec": {
   "display_name": "Python 3",
   "language": "python",
   "name": "python3"
  },
  "language_info": {
   "codemirror_mode": {
    "name": "ipython",
    "version": 3
   },
   "file_extension": ".py",
   "mimetype": "text/x-python",
   "name": "python",
   "nbconvert_exporter": "python",
   "pygments_lexer": "ipython3",
   "version": "3.8.5"
  }
 },
 "nbformat": 4,
 "nbformat_minor": 4
}
