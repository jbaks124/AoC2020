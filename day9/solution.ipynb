{
 "cells": [
  {
   "cell_type": "code",
   "execution_count": 1,
   "metadata": {},
   "outputs": [
    {
     "name": "stdout",
     "output_type": "stream",
     "text": [
      "1000\n"
     ]
    }
   ],
   "source": [
    "#Day9\n",
    "# part 1\n",
    "\n",
    "from itertools import combinations\n",
    "\n",
    "import urllib\n",
    "f = open(\"input.txt\", \"r\")\n",
    "lines = f.read()\n",
    "values = lines.split('\\n')\n",
    "print(len(values))"
   ]
  },
  {
   "cell_type": "code",
   "execution_count": 2,
   "metadata": {},
   "outputs": [
    {
     "name": "stdout",
     "output_type": "stream",
     "text": [
      "38\n",
      "18\n",
      "28\n"
     ]
    }
   ],
   "source": [
    "c = 0\n",
    "for i in values[c:3]:\n",
    "    print(i)"
   ]
  },
  {
   "cell_type": "code",
   "execution_count": 3,
   "metadata": {},
   "outputs": [
    {
     "name": "stdout",
     "output_type": "stream",
     "text": [
      "hey 22406676\n"
     ]
    }
   ],
   "source": [
    "c = 0\n",
    "outcome = 0\n",
    "\n",
    "while c < len(values)-26:\n",
    "\n",
    "    preamble = values[c:c+25]\n",
    "    pcombinations = combinations(preamble, 2)\n",
    "    \n",
    "    pvalid = []\n",
    "    \n",
    "    for i in pcombinations:\n",
    "        pvalid.append(int(i[0]) + int(i[1]))\n",
    "\n",
    "    pvalid = list(set(pvalid))\n",
    "\n",
    "    x = values[c+25]\n",
    "    \n",
    "    if int(x) not in pvalid:\n",
    "        print('hey', x)\n",
    "        outcome = x\n",
    "        break\n",
    "    \n",
    "    c += 1"
   ]
  },
  {
   "cell_type": "code",
   "execution_count": 4,
   "metadata": {},
   "outputs": [
    {
     "name": "stdout",
     "output_type": "stream",
     "text": [
      "hey 22406676\n",
      "answer 2942387\n"
     ]
    }
   ],
   "source": [
    "per = 2\n",
    "\n",
    "while per < 50:\n",
    "    \n",
    "    c = 0    \n",
    "\n",
    "    while c < len(values):\n",
    "        \n",
    "        subset = values[c:c+per]\n",
    "\n",
    "        check = 0\n",
    "        for i in subset:\n",
    "            check += int(i)\n",
    "\n",
    "        if check == int(outcome):\n",
    "            print('hey', check)\n",
    "            \n",
    "            arr = []\n",
    "            for i in subset:\n",
    "                arr.append(int(i))\n",
    "                \n",
    "            arr.sort() \n",
    "            \n",
    "            print('answer', arr[0] + arr[len(arr)-1])\n",
    "            \n",
    "        c += 1\n",
    "\n",
    "    per += 1"
   ]
  }
 ],
 "metadata": {
  "kernelspec": {
   "display_name": "Python 3",
   "language": "python",
   "name": "python3"
  },
  "language_info": {
   "codemirror_mode": {
    "name": "ipython",
    "version": 3
   },
   "file_extension": ".py",
   "mimetype": "text/x-python",
   "name": "python",
   "nbconvert_exporter": "python",
   "pygments_lexer": "ipython3",
   "version": "3.8.5"
  }
 },
 "nbformat": 4,
 "nbformat_minor": 4
}
