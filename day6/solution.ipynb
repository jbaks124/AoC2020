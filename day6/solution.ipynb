{
 "cells": [
  {
   "cell_type": "code",
   "execution_count": null,
   "metadata": {},
   "outputs": [],
   "source": [
    "#Day6\n",
    "# part 1\n",
    "\n",
    "import urllib\n",
    "f = open(\"input.txt\", \"r\")\n",
    "lines = f.read()\n",
    "values = lines.split('\\n\\n')"
   ]
  },
  {
   "cell_type": "code",
   "execution_count": null,
   "metadata": {},
   "outputs": [],
   "source": [
    "for i in values[0:1]:\n",
    "    print(i)"
   ]
  },
  {
   "cell_type": "code",
   "execution_count": null,
   "metadata": {},
   "outputs": [],
   "source": [
    "yescount = []\n",
    "\n",
    "for i in values:\n",
    "    line = str(i).replace('\\n', '')\n",
    "    yescount.append((len(list(set(line)))))\n",
    "\n",
    "sum(yescount)"
   ]
  },
  {
   "cell_type": "code",
   "execution_count": null,
   "metadata": {},
   "outputs": [],
   "source": [
    "# part 2\n",
    "\n",
    "import numpy as np\n",
    "import functools\n",
    "\n",
    "allyescount = []\n",
    "\n",
    "for i in values:\n",
    "    \n",
    "    group_answer = i.split('\\n')\n",
    "    member_answer = []\n",
    "    \n",
    "    for x in group_answer:\n",
    "        member_answer.append(list(set(x)))\n",
    "    \n",
    "    t = functools.reduce(np.intersect1d, member_answer)\n",
    "    allyescount.append(len(t))\n",
    "\n",
    "sum(allyescount)"
   ]
  }
 ],
 "metadata": {
  "kernelspec": {
   "display_name": "Python 3",
   "language": "python",
   "name": "python3"
  },
  "language_info": {
   "codemirror_mode": {
    "name": "ipython",
    "version": 3
   },
   "file_extension": ".py",
   "mimetype": "text/x-python",
   "name": "python",
   "nbconvert_exporter": "python",
   "pygments_lexer": "ipython3",
   "version": "3.7.4"
  }
 },
 "nbformat": 4,
 "nbformat_minor": 4
}
