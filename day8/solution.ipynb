{
 "cells": [
  {
   "cell_type": "code",
   "execution_count": 3,
   "metadata": {},
   "outputs": [],
   "source": [
    "#Day8\n",
    "# part 1\n",
    "\n",
    "import urllib\n",
    "f = open(\"input.txt\", \"r\")\n",
    "lines = f.read()\n",
    "values = lines.split('\\n')"
   ]
  },
  {
   "cell_type": "code",
   "execution_count": 4,
   "metadata": {},
   "outputs": [
    {
     "name": "stdout",
     "output_type": "stream",
     "text": [
      "jmp +323\n",
      "acc +0\n",
      "acc -1\n"
     ]
    }
   ],
   "source": [
    "for i in values[0:3]:\n",
    "    print(i)"
   ]
  },
  {
   "cell_type": "code",
   "execution_count": 93,
   "metadata": {},
   "outputs": [
    {
     "name": "stdout",
     "output_type": "stream",
     "text": [
      "{'instruction': 'jmp', 'direction': '+', 'steps': 1}\n",
      "636\n"
     ]
    }
   ],
   "source": [
    "import re\n",
    "\n",
    "iset = []\n",
    "\n",
    "for i in values:\n",
    "    \n",
    "    part = i.split(' ')\n",
    "    \n",
    "    direction = re.sub(\"[\\d]\", \"\", part[1])\n",
    "    steps = re.sub(\"[+-]\", \"\", part[1])\n",
    "    instruction = part[0]\n",
    "\n",
    "    iset.append({'instruction' : instruction, 'direction': direction, 'steps': int(steps)})\n",
    "\n",
    "print(iset[635])\n",
    "print(len(iset))"
   ]
  },
  {
   "cell_type": "code",
   "execution_count": 55,
   "metadata": {},
   "outputs": [
    {
     "name": "stdout",
     "output_type": "stream",
     "text": [
      "touched on 359 acc is 1861\n"
     ]
    }
   ],
   "source": [
    "def run(pos, acc):\n",
    "    \n",
    "    if 'touch' in iset[pos].keys():\n",
    "        print('touched on {0} acc is {1}'.format(pos, acc))\n",
    "        return True\n",
    "    \n",
    "    iset[pos].update({'touch' : 1})\n",
    "    \n",
    "    if iset[pos]['instruction'] == 'jmp':\n",
    "        if iset[pos]['direction'] == '+':\n",
    "            pos += iset[pos]['steps']\n",
    "        else:\n",
    "            pos -= iset[pos]['steps']       \n",
    "\n",
    "    else:\n",
    "        if iset[pos]['instruction'] == 'acc':\n",
    "            if iset[pos]['direction'] == '+':\n",
    "                acc += iset[pos]['steps']\n",
    "            else:\n",
    "                acc -= iset[pos]['steps']\n",
    "       \n",
    "        pos += 1\n",
    "\n",
    "    run(pos, acc)\n",
    "\n",
    "run(0, 0)"
   ]
  },
  {
   "cell_type": "code",
   "execution_count": 119,
   "metadata": {},
   "outputs": [
    {
     "name": "stdout",
     "output_type": "stream",
     "text": [
      "normal operation on 636 acc is 631\n"
     ]
    }
   ],
   "source": [
    "# part 2\n",
    "\n",
    "def run(pos, acc):\n",
    "    \n",
    "    if pos >= len(iset):\n",
    "        print('normal operation on {0} acc is {1}'.format(pos, acc))\n",
    "        return True\n",
    "    \n",
    "    if 'touch' in iset[pos].keys():\n",
    "        return False\n",
    "    \n",
    "    iset[pos].update({'touch' : 1})\n",
    "    \n",
    "    if iset[pos]['instruction'] == 'jmp':\n",
    "        if iset[pos]['direction'] == '+': pos += iset[pos]['steps']\n",
    "        else: pos -= iset[pos]['steps']       \n",
    "\n",
    "    else:\n",
    "        if iset[pos]['instruction'] == 'acc':\n",
    "            if iset[pos]['direction'] == '+': acc += iset[pos]['steps']\n",
    "            else: acc -= iset[pos]['steps']\n",
    "       \n",
    "        pos += 1\n",
    "\n",
    "    run(pos, acc)\n",
    "\n",
    "c1 = 0\n",
    "while c1 < len(iset):\n",
    "    \n",
    "    c2 = 0\n",
    "    while c2 < len(iset):\n",
    "        iset[c2].pop('touch', None)\n",
    "        c2 += 1\n",
    "    \n",
    "    if c1 > 0:\n",
    "        if iset[c1]['instruction'] == 'jmp': iset[c1]['instruction'] = 'nop'\n",
    "        elif iset[c1]['instruction'] == 'nop': iset[c1]['instruction'] = 'jmp'\n",
    "    \n",
    "    c1 += 1\n",
    "        \n",
    "    while c1 < len(iset):\n",
    "        if iset[c1]['instruction'] == 'jmp':\n",
    "            iset[c1]['instruction'] = 'nop'\n",
    "            break\n",
    "        elif iset[c1]['instruction'] == 'nop':\n",
    "            iset[c1]['instruction'] = 'jmp'\n",
    "            break\n",
    "\n",
    "        c1 += 1\n",
    "                \n",
    "    run(0, 0)"
   ]
  },
  {
   "cell_type": "code",
   "execution_count": null,
   "metadata": {},
   "outputs": [],
   "source": []
  }
 ],
 "metadata": {
  "kernelspec": {
   "display_name": "Python 3",
   "language": "python",
   "name": "python3"
  },
  "language_info": {
   "codemirror_mode": {
    "name": "ipython",
    "version": 3
   },
   "file_extension": ".py",
   "mimetype": "text/x-python",
   "name": "python",
   "nbconvert_exporter": "python",
   "pygments_lexer": "ipython3",
   "version": "3.7.4"
  }
 },
 "nbformat": 4,
 "nbformat_minor": 4
}
