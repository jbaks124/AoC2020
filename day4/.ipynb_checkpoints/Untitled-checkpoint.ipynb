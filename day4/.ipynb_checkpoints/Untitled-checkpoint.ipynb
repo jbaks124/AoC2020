{
 "cells": [
  {
   "cell_type": "code",
   "execution_count": 502,
   "metadata": {},
   "outputs": [],
   "source": [
    "#Day4\n",
    "# part 1\n",
    "\n",
    "import urllib\n",
    "f = open(\"input.txt\", \"r\")\n",
    "lines = f.read()\n",
    "values = lines.split('\\n\\n')"
   ]
  },
  {
   "cell_type": "code",
   "execution_count": 503,
   "metadata": {},
   "outputs": [
    {
     "name": "stdout",
     "output_type": "stream",
     "text": [
      "iyr:2010 ecl:gry hgt:181cm\n",
      "pid:591597745 byr:1920 hcl:#6b5442 eyr:2029 cid:123\n"
     ]
    }
   ],
   "source": [
    "for i in values[0:1]:\n",
    "    print(i)"
   ]
  },
  {
   "cell_type": "code",
   "execution_count": 504,
   "metadata": {},
   "outputs": [],
   "source": [
    "clines = []\n",
    "\n",
    "for i in values:\n",
    "    t = i.replace('\\n','\\n ')\n",
    "    clines.append(t.replace('\\n',''))"
   ]
  },
  {
   "cell_type": "code",
   "execution_count": 505,
   "metadata": {},
   "outputs": [
    {
     "name": "stdout",
     "output_type": "stream",
     "text": [
      "iyr:2010 ecl:gry hgt:181cm pid:591597745 byr:1920 hcl:#6b5442 eyr:2029 cid:123\n",
      "cid:223 byr:1927 hgt:177cm hcl:#602927 iyr:2016 pid:404183620 ecl:amb eyr:2020\n",
      "byr:1998 ecl:hzl cid:178 hcl:#a97842 iyr:2014 hgt:166cm pid:594143498 eyr:2030\n",
      "ecl:hzl pid:795349208 iyr:2018 eyr:2024 hcl:#de745c hgt:157cm\n"
     ]
    }
   ],
   "source": [
    "for i in clines[0:4]:\n",
    "    print(i)"
   ]
  },
  {
   "cell_type": "code",
   "execution_count": 506,
   "metadata": {},
   "outputs": [],
   "source": [
    "data = {}\n",
    "c = 0\n",
    "\n",
    "for x in clines:\n",
    "    \n",
    "    listline = []\n",
    "    dictline = {}\n",
    "    \n",
    "    t = x.split(' ')\n",
    "    \n",
    "    for i in t:\n",
    "        l = i.split(':')\n",
    "        listline.append(l)\n",
    "     \n",
    "    for i in listline:\n",
    "        t = {i[0] : i[1]}\n",
    "        dictline.update(t)\n",
    "        \n",
    "    data[c] = dictline\n",
    "    c += 1"
   ]
  },
  {
   "cell_type": "code",
   "execution_count": 523,
   "metadata": {},
   "outputs": [
    {
     "name": "stdout",
     "output_type": "stream",
     "text": [
      "{'cid': '223', 'byr': '1927', 'hgt': '177cm', 'hcl': '#602927', 'iyr': '2016', 'pid': '404183620', 'ecl': 'amb', 'eyr': '2020'}\n"
     ]
    }
   ],
   "source": [
    "print(data[1])"
   ]
  },
  {
   "cell_type": "code",
   "execution_count": 508,
   "metadata": {},
   "outputs": [],
   "source": [
    "val = []\n",
    "val.append(['ecl',1])\n",
    "val.append(['pid',1])\n",
    "val.append(['eyr',1])\n",
    "val.append(['hcl',1])\n",
    "val.append(['byr',1])\n",
    "val.append(['iyr',1])\n",
    "val.append(['cid',0])\n",
    "val.append(['hgt',1])\n",
    "\n",
    "passportpointlist = []\n",
    "\n",
    "for x in data:\n",
    "    \n",
    "    passportpoints = 0\n",
    "    \n",
    "    for i in val:\n",
    "        if i[1] == 1:\n",
    "            if i[0] in data[x]:\n",
    "                passportpoints += 1\n",
    "        else:\n",
    "            passportpoints += 1\n",
    "            \n",
    "    passportpointlist.append(passportpoints)"
   ]
  },
  {
   "cell_type": "code",
   "execution_count": 509,
   "metadata": {},
   "outputs": [
    {
     "data": {
      "text/plain": [
       "254"
      ]
     },
     "execution_count": 509,
     "metadata": {},
     "output_type": "execute_result"
    }
   ],
   "source": [
    "sum(i > 7 for i in passportpointlist)"
   ]
  },
  {
   "cell_type": "code",
   "execution_count": 510,
   "metadata": {},
   "outputs": [],
   "source": [
    "#Part 2\n",
    "rules = {}\n",
    "rules[0] = {'field': 'byr', 'regex': '[0-9]{4}$', 'min': 1920,'max': 2002} \n",
    "rules[1] = {'field': 'iyr', 'regex': '[0-9]{4}$', 'min': 2010,'max': 2020} \n",
    "rules[2] = {'field': 'eyr', 'regex': '[0-9]{4}$', 'min': 2020,'max': 2030} \n",
    "rules[3] = {'field': 'hgt', 'regex': '^[0-9][0-9][0-9]cm', 'min': 150, 'max': 193} \n",
    "rules[4] = {'field': 'hgt', 'regex': '^[0-9][0-9]in', 'min': 59, 'max': 76}\n",
    "rules[5] = {'field': 'hcl', 'regex': '^[#][0-9a-f]{6}$'} \n",
    "rules[6] = {'field': 'ecl', 'regex': 'amb'} \n",
    "rules[7] = {'field': 'ecl', 'regex': 'blu'}\n",
    "rules[8] = {'field': 'ecl', 'regex': 'brn'}\n",
    "rules[9] = {'field': 'ecl', 'regex': 'gry'}\n",
    "rules[10] = {'field': 'ecl', 'regex': 'grn'}\n",
    "rules[11] = {'field': 'ecl', 'regex': 'hzl'}\n",
    "rules[12] = {'field': 'ecl', 'regex': 'oth'}\n",
    "rules[13] = {'field': 'pid', 'regex': '[0-9]{9}$'} "
   ]
  },
  {
   "cell_type": "code",
   "execution_count": 532,
   "metadata": {
    "scrolled": true
   },
   "outputs": [],
   "source": [
    "import re\n",
    "\n",
    "resultset = {}\n",
    "\n",
    "for d in data:\n",
    "    for r in rules:\n",
    "        presult = 0        \n",
    "        if rules[r]['field'] in data[d]:\n",
    "            checkvalue = data[d][rules[r]['field']]\n",
    "            for key in rules[r].keys():\n",
    "                if key is not 'field':\n",
    "                    if key == 'regex':\n",
    "                        if bool(re.match(rules[r][key], checkvalue)) == True:\n",
    "                            presult = 1\n",
    "                        else:\n",
    "                            presult = 0\n",
    "                            break\n",
    "                    if key == 'min':\n",
    "                        integer = re.findall('\\d+', checkvalue)\n",
    "                        if int(integer[0]) >= rules[r][key]:\n",
    "                            presult = 1\n",
    "                        else:\n",
    "                            presult = 0\n",
    "                            break\n",
    "                    if key == 'max':\n",
    "                        integer = re.findall('\\d+', checkvalue)\n",
    "                        if int(integer[0]) <= rules[r][key]:\n",
    "                            presult = 1\n",
    "                        else:\n",
    "                            presult = 0\n",
    "        resultset[d,r] = presult"
   ]
  },
  {
   "cell_type": "code",
   "execution_count": 533,
   "metadata": {},
   "outputs": [
    {
     "name": "stdout",
     "output_type": "stream",
     "text": [
      "184\n"
     ]
    }
   ],
   "source": [
    "total = 0\n",
    "\n",
    "for d in data:\n",
    "    rulecount = 0\n",
    "    for i in rules:\n",
    "        rulecount += resultset[d,i]\n",
    "    if rulecount == 7:\n",
    "        total += 1\n",
    "        \n",
    "print(total)"
   ]
  },
  {
   "cell_type": "code",
   "execution_count": null,
   "metadata": {},
   "outputs": [],
   "source": []
  }
 ],
 "metadata": {
  "kernelspec": {
   "display_name": "Python 3",
   "language": "python",
   "name": "python3"
  },
  "language_info": {
   "codemirror_mode": {
    "name": "ipython",
    "version": 3
   },
   "file_extension": ".py",
   "mimetype": "text/x-python",
   "name": "python",
   "nbconvert_exporter": "python",
   "pygments_lexer": "ipython3",
   "version": "3.7.4"
  }
 },
 "nbformat": 4,
 "nbformat_minor": 4
}
