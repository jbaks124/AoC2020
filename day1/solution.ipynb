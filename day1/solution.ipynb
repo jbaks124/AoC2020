{
 "cells": [
  {
   "cell_type": "code",
   "execution_count": 3,
   "metadata": {},
   "outputs": [],
   "source": [
    "# Day1\n",
    "\n",
    "import urllib\n",
    "f = open(\"input.txt\", \"r\")\n",
    "lines = f.read()\n",
    "values = lines.splitlines()\n",
    "res = [int(i) for i in values]"
   ]
  },
  {
   "cell_type": "code",
   "execution_count": 20,
   "metadata": {},
   "outputs": [
    {
     "name": "stdout",
     "output_type": "stream",
     "text": [
      "964875\n",
      "964875\n",
      "done!\n"
     ]
    }
   ],
   "source": [
    "#1\n",
    "for x in res:\n",
    "    for y in res:\n",
    "        if x + y == 2020:\n",
    "            print(x*y)\n",
    "print('done!')"
   ]
  },
  {
   "cell_type": "code",
   "execution_count": 4,
   "metadata": {},
   "outputs": [
    {
     "name": "stdout",
     "output_type": "stream",
     "text": [
      "158661360\n",
      "158661360\n",
      "158661360\n",
      "158661360\n",
      "158661360\n",
      "158661360\n",
      "done!\n"
     ]
    }
   ],
   "source": [
    "#2\n",
    "for x in res:\n",
    "    for y in res:\n",
    "            for z in res:\n",
    "                if x + y + z == 2020:\n",
    "                    print(x*y*z)\n",
    "print('done!')"
   ]
  },
  {
   "cell_type": "code",
   "execution_count": null,
   "metadata": {},
   "outputs": [],
   "source": []
  }
 ],
 "metadata": {
  "kernelspec": {
   "display_name": "Python 3",
   "language": "python",
   "name": "python3"
  },
  "language_info": {
   "codemirror_mode": {
    "name": "ipython",
    "version": 3
   },
   "file_extension": ".py",
   "mimetype": "text/x-python",
   "name": "python",
   "nbconvert_exporter": "python",
   "pygments_lexer": "ipython3",
   "version": "3.7.4"
  }
 },
 "nbformat": 4,
 "nbformat_minor": 4
}
